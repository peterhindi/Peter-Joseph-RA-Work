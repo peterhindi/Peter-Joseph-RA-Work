{
 "cells": [
  {
   "cell_type": "markdown",
   "id": "4de5a27b-3303-43d6-805c-3496943fc820",
   "metadata": {},
   "source": [
    "<h1>Mean Variance Optimization - Underlying Functions</h1>\n",
    "<h4>By Peter Hindi</h4>\t\n",
    "<p>In this notebook, we define a set of functions that provide functionality for mean-variance portfolio optimization in a finance context. This poses a quadratic problem due to the expression for portfolio variance having a degree of 2. For our models to work, we input a vector for mean expected returns by asset class and provide a covariance matrix to provide a forward-looking estimate of correlation between asset class returns. We can then optimize our portfolio at different levels of expected return and risk tolerance to determine the optimal portfolio under each constraint. In this way, we can create an efficient portfolio frontier, as we do below.</p>\n",
    "\n",
    "***"
   ]
  },
  {
   "cell_type": "code",
   "execution_count": 1,
   "id": "fc9c1532-5958-40ae-bdb1-72e9dfa6d474",
   "metadata": {},
   "outputs": [],
   "source": [
    "#Import packages\n",
    "using JuMP, Pkg, CSV, DataFrames, Statistics, Plots, Ipopt"
   ]
  },
  {
   "cell_type": "markdown",
   "id": "ab5709f3-6c78-4350-9269-5a390007b38d",
   "metadata": {},
   "source": [
    "<h5>Model Definition</h5 >\t\n",
    "<p>Here, we define our first mean-variance optimization model. The way this model works is by maximizing return given some level of risk tolerance chosen by the user. In this sense, we are selecting for the \"optimal\" portfolio, given the asset classes in our decision set. We wrap the ML model in a function so that we can call it later with our \"model_iterator\" function to produce a large sample of portfolios given different levels of risk tolerance. Then we will plot our data points to construct an efficient frontier.</p>\n",
    "\n",
    "***"
   ]
  },
  {
   "cell_type": "code",
   "execution_count": 2,
   "id": "dfa3efb9-071c-4310-b6a4-e3c2cbbd3f85",
   "metadata": {},
   "outputs": [
    {
     "data": {
      "text/plain": [
       "model_max_return (generic function with 1 method)"
      ]
     },
     "execution_count": 2,
     "metadata": {},
     "output_type": "execute_result"
    }
   ],
   "source": [
    "#We create a function for our return-maximizing optimization model, requiring our mean return vector, covariance matrix, and maximum risk tolerance (variance) as parameters\n",
    "function model_max_return(mean_return, covariance_matrix, maxvariance) \n",
    "    #Initialize our model as an instance of the Ipopt optimizer\n",
    "    model_max_return = Model(Ipopt.Optimizer)\n",
    "    #Test proper matrix dimensions for multiplication\n",
    "    if length(mean_return)^2 == length(covariance_matrix)\n",
    "        #Our decision variables represent weight for each asset class, in vector form\n",
    "        @variable(model_max_return, x[1:length(mean_return)])\n",
    "        #We aim to maximize return given the constraints, which is the weighted average of asset class expected returns with the weight of that asset class\n",
    "        @objective(model_max_return, Max, transpose(mean_return)*x)\n",
    "        #We assume no shorting is possible; each asset-class weight must be between 0 and 1\n",
    "        @constraint(model_max_return, weightUL, x[1:length(mean_return)].<=1)\n",
    "        @constraint(model_max_return, weightLL, x[1:length(mean_return)].>=0)\n",
    "        #Total portfolio weight must add up to 1\n",
    "        @constraint(model_max_return, weightAdd, sum(x)==1)\n",
    "        #Set our risk ceiling constraint, to be provided as a function parameter\n",
    "        @constraint(model_max_return, risklimit, transpose(x)*covariance_matrix*x <= maxvariance)\n",
    "        \n",
    "        #Optimize our model with no text output\n",
    "        set_silent(model_max_return)\n",
    "        optimize!(model_max_return)\n",
    "        #Return our resulting output values as a tuple, the order of elements is return and then risk\n",
    "        return JuMP.objective_value(model_max_return), value.(risklimit)       \n",
    "    else \n",
    "        #If the dimensions are incorrect, return the error message\n",
    "        print(\"Error: Incorrect Dimensions for Matrix Operation\")\n",
    "        return\n",
    "    end\n",
    "end"
   ]
  },
  {
   "cell_type": "markdown",
   "id": "8bcb69ac-a0c1-4563-9a87-c0b0e970db39",
   "metadata": {},
   "source": [
    "We define a second machine learning model similar to the above. The difference here is that instead of optimizing for maximum return given some level of risk tolerance, we are minimizing risk given some level of required (minimum) return. In one sense we are essentially doing the opposite of our model above, but our models will yield the same results because the objectives are the same, only changing which variable we control.\n",
    "\n",
    "***"
   ]
  },
  {
   "cell_type": "code",
   "execution_count": 3,
   "id": "27776e06-6e49-4a1c-ac83-f5b3c5a0794c",
   "metadata": {},
   "outputs": [
    {
     "data": {
      "text/plain": [
       "model_min_variance (generic function with 1 method)"
      ]
     },
     "execution_count": 3,
     "metadata": {},
     "output_type": "execute_result"
    }
   ],
   "source": [
    "#We create a function for our return-maximizing optimization model, requiring our mean return vector, covariance matrix, and minimum return as parameters \n",
    "function model_min_variance(mean_return, covariance_matrix, minreturn) \n",
    "   \n",
    "    #Initialize our model as an instance of the Ipopt optimizer\n",
    "    model_min_variance = Model(Ipopt.Optimizer)\n",
    "   \n",
    "    #Test proper matrix dimensions for multiplication\n",
    "    if length(mean_return)^2 == length(covariance_matrix)\n",
    "       \n",
    "        #Our decision variables represent weight for each asset class, in vector form\n",
    "        @variable(model_min_variance, x[1:length(mean_return)])\n",
    "       \n",
    "        #We aim to minimize risk (denoted as variance of portfolio returns) given the constraints\n",
    "        @objective(model_min_variance, Min, transpose(x)*covariance_matrix*x)\n",
    "       \n",
    "        #We assume no shorting is possible; each asset-class weight must be between 0 and 1\n",
    "        @constraint(model_min_variance, weightUL, x[1:length(mean_return)].<=1)\n",
    "        @constraint(model_min_variance, weightLL, x[1:length(mean_return)].>=0)\n",
    "     \n",
    "        #Total portfolio weight must add up to 1\n",
    "        @constraint(model_min_variance, weightAdd, sum(x)==1)\n",
    "       \n",
    "        #Set our required return for the portfolio, to be provided as a function parameter\n",
    "        @constraint(model_min_variance, minimumreturn, transpose(mean_return)*x >= minreturn)\n",
    "       \n",
    "        #Optimize our model with no text output\n",
    "        set_silent(model_min_variance)\n",
    "        optimize!(model_min_variance)\n",
    "\n",
    "        #Return our resulting output values as a tuple, the order of elements is return and then risk\n",
    "        return value.(minimumreturn), JuMP.objective_value(model_min_variance)    \n",
    "    else \n",
    "\n",
    "        #If the dimensions are incorrect, return the error message\n",
    "        print(\"Error: Incorrect Dimensions for Matrix Operation\")\n",
    "        return\n",
    "    end\n",
    "end"
   ]
  },
  {
   "cell_type": "markdown",
   "id": "573bf306-519d-4a31-8bb7-134e0c0e2dcc",
   "metadata": {},
   "source": [
    "<h5>Iterator Function</h5>\t\n",
    "<p>Here, we build our iterator function. This function intakes our ML model wrapper (depending on which model we want to run), the model parameters, and the range of control variables we want to test; with the ultimate goal of running the model on several levels of required return/risk tolerance (model-dependent) to create a sufficiently large set of sample data. We provide this functionality by taking in the range of the constraint that the user wants to test and the increment between each test. This will determine how many portfolios are run, and the output will be a tuple with the list of returns and risk (variance) for each portfolio.</p>\n",
    "\n",
    "***"
   ]
  },
  {
   "cell_type": "code",
   "execution_count": 4,
   "id": "4e3be3c0-06a4-4c94-a356-9c734c6f6fd9",
   "metadata": {},
   "outputs": [
    {
     "data": {
      "text/plain": [
       "model_iterator (generic function with 1 method)"
      ]
     },
     "execution_count": 4,
     "metadata": {},
     "output_type": "execute_result"
    }
   ],
   "source": [
    "#Our model iterator allows us to run our optimization models with multiple levels of risk tolerance/required return, which is key to building our efficient frontier\n",
    "function model_iterator(func, mean_return, covariance_matrix, min_constraint, max_constraint, increment)\n",
    "    \n",
    "    #Create empty vectors to input model results as it is run for different levels of risk tolerance/required return    \n",
    "    retlist = []\n",
    "    risklist = []\n",
    "   \n",
    "    #Loop to iterate for each element in the list of elements between the lower and upper bounds provided, given the increment specified\n",
    "    for i in [min_constraint:increment:max_constraint;]\n",
    "        \n",
    "        #call the specified model with the privided mean return vector and covariance matrix for each constraint level i in the list\n",
    "        resulttuple = func(mean_return,covariance_matrix,i)\n",
    "\n",
    "        #Append the results for each run to our vector containers initialized above\n",
    "        push!(retlist, resulttuple[1])\n",
    "        push!(risklist,resulttuple[2])\n",
    "    end\n",
    "    \n",
    "    #Return our list of returns and risk-levels in tuple form for each model run\n",
    "    return retlist, risklist\n",
    "end"
   ]
  },
  {
   "cell_type": "markdown",
   "id": "d836d8b3-4ab7-4d62-a816-26536c92a374",
   "metadata": {},
   "source": [
    "<h5>Efficient Frontier</h5>\n",
    "<p>Here, we define our function that takes our portfolio datapoints as inputs, specifically our observed risk and return for each observation, and plots these points to build an efficient frontier as a scatterplot.</p>\n",
    "\n",
    "***"
   ]
  },
  {
   "cell_type": "code",
   "execution_count": 5,
   "id": "6337a89a-c6fa-4c0b-9e9e-f3930a0c5efc",
   "metadata": {},
   "outputs": [
    {
     "data": {
      "text/plain": [
       "make_efficient_frontier (generic function with 1 method)"
      ]
     },
     "execution_count": 5,
     "metadata": {},
     "output_type": "execute_result"
    }
   ],
   "source": [
    "#Create a function to take an array of returns and variance for sample portfolios and generate an efficient frontier plot\n",
    "function make_efficient_frontier(ret,risk)\n",
    "    #Reset the plot environment for each function run\n",
    "    Plots.CURRENT_PLOT.nullableplot = nothing\n",
    "\n",
    "    #Set our x and y variables to risk (variance) and return, respectively\n",
    "    x = risk\n",
    "    y = ret\n",
    "\n",
    "    #Add axis labels and a title to improve chart readability\n",
    "    xlabel!(\"variance of returns\")\n",
    "    ylabel!(\"returns\")\n",
    "    title!(\"Efficient Portfolio Frontier\")\n",
    "\n",
    "    #Set x and y axis limits for visibility\n",
    "    xlims!(0,0.1)\n",
    "    ylims!(0,0.1)\n",
    "    \n",
    "    #Display the plot as a scatterplot\n",
    "    display(plot!(risk,ret, seriestype=:scatter, label=\"possible portfolios\"))\n",
    "end\n",
    "    "
   ]
  }
 ],
 "metadata": {
  "kernelspec": {
   "display_name": "Julia 1.10.2",
   "language": "julia",
   "name": "julia-1.10"
  },
  "language_info": {
   "file_extension": ".jl",
   "mimetype": "application/julia",
   "name": "julia",
   "version": "1.10.2"
  }
 },
 "nbformat": 4,
 "nbformat_minor": 5
}
