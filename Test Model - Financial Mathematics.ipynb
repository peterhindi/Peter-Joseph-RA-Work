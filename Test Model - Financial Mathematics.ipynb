{
 "cells": [
  {
   "cell_type": "code",
   "execution_count": 3,
   "id": "904c60da-53bc-4f06-b909-b54701d81ba7",
   "metadata": {},
   "outputs": [
    {
     "name": "stderr",
     "output_type": "stream",
     "text": [
      "\u001b[32m\u001b[1m    Updating\u001b[22m\u001b[39m registry at `~/.julia/registries/General.toml`\n",
      "\u001b[32m\u001b[1m   Resolving\u001b[22m\u001b[39m package versions...\n",
      "\u001b[32m\u001b[1m   Installed\u001b[22m\u001b[39m Ipopt ───── v1.6.2\n",
      "\u001b[32m\u001b[1m   Installed\u001b[22m\u001b[39m Ipopt_jll ─ v300.1400.1400+0\n",
      "\u001b[32m\u001b[1m   Installed\u001b[22m\u001b[39m SPRAL_jll ─ v2024.1.18+0\n",
      "\u001b[32m\u001b[1m   Installed\u001b[22m\u001b[39m Hwloc_jll ─ v2.10.0+0\n",
      "\u001b[32m\u001b[1m   Installed\u001b[22m\u001b[39m ASL_jll ─── v0.1.3+0\n",
      "\u001b[32m\u001b[1m    Updating\u001b[22m\u001b[39m `~/.julia/environments/v1.10/Project.toml`\n",
      "  \u001b[90m[b6b21f68] \u001b[39m\u001b[92m+ Ipopt v1.6.2\u001b[39m\n",
      "\u001b[32m\u001b[1m    Updating\u001b[22m\u001b[39m `~/.julia/environments/v1.10/Manifest.toml`\n",
      "  \u001b[90m[b6b21f68] \u001b[39m\u001b[92m+ Ipopt v1.6.2\u001b[39m\n",
      "  \u001b[90m[ae81ac8f] \u001b[39m\u001b[92m+ ASL_jll v0.1.3+0\u001b[39m\n",
      "  \u001b[90m[e33a78d0] \u001b[39m\u001b[92m+ Hwloc_jll v2.10.0+0\u001b[39m\n",
      "  \u001b[90m[9cc047cb] \u001b[39m\u001b[92m+ Ipopt_jll v300.1400.1400+0\u001b[39m\n",
      "  \u001b[90m[319450e9] \u001b[39m\u001b[92m+ SPRAL_jll v2024.1.18+0\u001b[39m\n",
      "\u001b[32m\u001b[1mPrecompiling\u001b[22m\u001b[39m project...\n",
      "\u001b[32m  ✓ \u001b[39m\u001b[90mASL_jll\u001b[39m\n",
      "\u001b[32m  ✓ \u001b[39m\u001b[90mHwloc_jll\u001b[39m\n",
      "\u001b[32m  ✓ \u001b[39m\u001b[90mSPRAL_jll\u001b[39m\n",
      "\u001b[32m  ✓ \u001b[39m\u001b[90mIpopt_jll\u001b[39m\n",
      "\u001b[32m  ✓ \u001b[39mIpopt\n",
      "  5 dependencies successfully precompiled in 20 seconds. 74 already precompiled.\n"
     ]
    },
    {
     "data": {
      "text/html": [
       "<div><div style = \"float: left;\"><span>12×4 DataFrame</span></div><div style = \"clear: both;\"></div></div><div class = \"data-frame\" style = \"overflow-x: scroll;\"><table class = \"data-frame\" style = \"margin-bottom: 6px;\"><thead><tr class = \"header\"><th class = \"rowNumber\" style = \"font-weight: bold; text-align: right;\">Row</th><th style = \"text-align: left;\">Date</th><th style = \"text-align: left;\">S&amp;P 500</th><th style = \"text-align: left;\">Bitcoin</th><th style = \"text-align: left;\">Emerging Market Index</th></tr><tr class = \"subheader headerLastRow\"><th class = \"rowNumber\" style = \"font-weight: bold; text-align: right;\"></th><th title = \"String7\" style = \"text-align: left;\">String7</th><th title = \"Float64\" style = \"text-align: left;\">Float64</th><th title = \"Float64\" style = \"text-align: left;\">Float64</th><th title = \"Float64\" style = \"text-align: left;\">Float64</th></tr></thead><tbody><tr><td class = \"rowNumber\" style = \"font-weight: bold; text-align: right;\">1</td><td style = \"text-align: left;\">04/2024</td><td style = \"text-align: right;\">-0.00923806</td><td style = \"text-align: right;\">-0.0695962</td><td style = \"text-align: right;\">0.0064513</td></tr><tr><td class = \"rowNumber\" style = \"font-weight: bold; text-align: right;\">2</td><td style = \"text-align: left;\">03/2024</td><td style = \"text-align: right;\">0.0310188</td><td style = \"text-align: right;\">0.144183</td><td style = \"text-align: right;\">0.0218034</td></tr><tr><td class = \"rowNumber\" style = \"font-weight: bold; text-align: right;\">3</td><td style = \"text-align: left;\">02/2024</td><td style = \"text-align: right;\">0.0517206</td><td style = \"text-align: right;\">0.459912</td><td style = \"text-align: right;\">0.0462595</td></tr><tr><td class = \"rowNumber\" style = \"font-weight: bold; text-align: right;\">4</td><td style = \"text-align: left;\">01/2024</td><td style = \"text-align: right;\">0.0158957</td><td style = \"text-align: right;\">-0.000423161</td><td style = \"text-align: right;\">-0.0468283</td></tr><tr><td class = \"rowNumber\" style = \"font-weight: bold; text-align: right;\">5</td><td style = \"text-align: left;\">12/2023</td><td style = \"text-align: right;\">0.0442292</td><td style = \"text-align: right;\">0.126569</td><td style = \"text-align: right;\">0.0371188</td></tr><tr><td class = \"rowNumber\" style = \"font-weight: bold; text-align: right;\">6</td><td style = \"text-align: left;\">11/2023</td><td style = \"text-align: right;\">0.0891793</td><td style = \"text-align: right;\">0.0930091</td><td style = \"text-align: right;\">0.0785621</td></tr><tr><td class = \"rowNumber\" style = \"font-weight: bold; text-align: right;\">7</td><td style = \"text-align: left;\">10/2023</td><td style = \"text-align: right;\">-0.0219797</td><td style = \"text-align: right;\">0.277977</td><td style = \"text-align: right;\">-0.0394425</td></tr><tr><td class = \"rowNumber\" style = \"font-weight: bold; text-align: right;\">8</td><td style = \"text-align: left;\">09/2023</td><td style = \"text-align: right;\">-0.0487193</td><td style = \"text-align: right;\">0.0332556</td><td style = \"text-align: right;\">-0.0281028</td></tr><tr><td class = \"rowNumber\" style = \"font-weight: bold; text-align: right;\">9</td><td style = \"text-align: left;\">08/2023</td><td style = \"text-align: right;\">-0.0177164</td><td style = \"text-align: right;\">-0.102231</td><td style = \"text-align: right;\">-0.0635967</td></tr><tr><td class = \"rowNumber\" style = \"font-weight: bold; text-align: right;\">10</td><td style = \"text-align: left;\">07/2023</td><td style = \"text-align: right;\">0.0311389</td><td style = \"text-align: right;\">-0.0414158</td><td style = \"text-align: right;\">0.0580406</td></tr><tr><td class = \"rowNumber\" style = \"font-weight: bold; text-align: right;\">11</td><td style = \"text-align: left;\">06/2023</td><td style = \"text-align: right;\">0.0647275</td><td style = \"text-align: right;\">0.125264</td><td style = \"text-align: right;\">0.032289</td></tr><tr><td class = \"rowNumber\" style = \"font-weight: bold; text-align: right;\">12</td><td style = \"text-align: left;\">05/2023</td><td style = \"text-align: right;\">0.00248232</td><td style = \"text-align: right;\">-0.0804969</td><td style = \"text-align: right;\">-0.018955</td></tr></tbody></table></div>"
      ],
      "text/latex": [
       "\\begin{tabular}{r|cccc}\n",
       "\t& Date & S\\&P 500 & Bitcoin & Emerging Market Index\\\\\n",
       "\t\\hline\n",
       "\t& String7 & Float64 & Float64 & Float64\\\\\n",
       "\t\\hline\n",
       "\t1 & 04/2024 & -0.00923806 & -0.0695962 & 0.0064513 \\\\\n",
       "\t2 & 03/2024 & 0.0310188 & 0.144183 & 0.0218034 \\\\\n",
       "\t3 & 02/2024 & 0.0517206 & 0.459912 & 0.0462595 \\\\\n",
       "\t4 & 01/2024 & 0.0158957 & -0.000423161 & -0.0468283 \\\\\n",
       "\t5 & 12/2023 & 0.0442292 & 0.126569 & 0.0371188 \\\\\n",
       "\t6 & 11/2023 & 0.0891793 & 0.0930091 & 0.0785621 \\\\\n",
       "\t7 & 10/2023 & -0.0219797 & 0.277977 & -0.0394425 \\\\\n",
       "\t8 & 09/2023 & -0.0487193 & 0.0332556 & -0.0281028 \\\\\n",
       "\t9 & 08/2023 & -0.0177164 & -0.102231 & -0.0635967 \\\\\n",
       "\t10 & 07/2023 & 0.0311389 & -0.0414158 & 0.0580406 \\\\\n",
       "\t11 & 06/2023 & 0.0647275 & 0.125264 & 0.032289 \\\\\n",
       "\t12 & 05/2023 & 0.00248232 & -0.0804969 & -0.018955 \\\\\n",
       "\\end{tabular}\n"
      ],
      "text/plain": [
       "\u001b[1m12×4 DataFrame\u001b[0m\n",
       "\u001b[1m Row \u001b[0m│\u001b[1m Date    \u001b[0m\u001b[1m S&P 500     \u001b[0m\u001b[1m Bitcoin      \u001b[0m\u001b[1m Emerging Market Index \u001b[0m\n",
       "     │\u001b[90m String7 \u001b[0m\u001b[90m Float64     \u001b[0m\u001b[90m Float64      \u001b[0m\u001b[90m Float64               \u001b[0m\n",
       "─────┼───────────────────────────────────────────────────────────\n",
       "   1 │ 04/2024  -0.00923806  -0.0695962                0.0064513\n",
       "   2 │ 03/2024   0.0310188    0.144183                 0.0218034\n",
       "   3 │ 02/2024   0.0517206    0.459912                 0.0462595\n",
       "   4 │ 01/2024   0.0158957   -0.000423161             -0.0468283\n",
       "   5 │ 12/2023   0.0442292    0.126569                 0.0371188\n",
       "   6 │ 11/2023   0.0891793    0.0930091                0.0785621\n",
       "   7 │ 10/2023  -0.0219797    0.277977                -0.0394425\n",
       "   8 │ 09/2023  -0.0487193    0.0332556               -0.0281028\n",
       "   9 │ 08/2023  -0.0177164   -0.102231                -0.0635967\n",
       "  10 │ 07/2023   0.0311389   -0.0414158                0.0580406\n",
       "  11 │ 06/2023   0.0647275    0.125264                 0.032289\n",
       "  12 │ 05/2023   0.00248232  -0.0804969               -0.018955"
      ]
     },
     "execution_count": 3,
     "metadata": {},
     "output_type": "execute_result"
    }
   ],
   "source": [
    "using JuMP, Pkg\n",
    "using CSV, DataFrames, Statistics\n",
    "Pkg.add(\"Ipopt\")\n",
    "\n",
    "returndf = CSV.read(\"RA Sample Model Data.csv\", DataFrame)\n",
    "returndf"
   ]
  },
  {
   "cell_type": "code",
   "execution_count": 48,
   "id": "76e9c53d-619e-4268-8922-77ff4fad3945",
   "metadata": {},
   "outputs": [
    {
     "name": "stdout",
     "output_type": "stream",
     "text": [
      "0.08050057183333333 0.01939490325 0.006966623166666664"
     ]
    }
   ],
   "source": [
    "bitcoin_mean = mean(returndf.Bitcoin)\n",
    "sp500_mean = mean(returndf[!, Symbol(\"S&P 500\")])\n",
    "em_mean = mean(returndf[!, Symbol(\"Emerging Market Index\")])\n",
    "print(string(bitcoin_mean) * \" \")\n",
    "print(string(sp500_mean) * \" \" * string(em_mean))\n"
   ]
  },
  {
   "cell_type": "code",
   "execution_count": 38,
   "id": "444d7d73-5ddf-4829-b48b-6368acb2f64e",
   "metadata": {
    "scrolled": true
   },
   "outputs": [
    {
     "data": {
      "text/plain": [
       "3-element Vector{Float64}:\n",
       " 0.006966623166666664\n",
       " 0.01939490325\n",
       " 0.08050057183333333"
      ]
     },
     "metadata": {},
     "output_type": "display_data"
    },
    {
     "name": "stdout",
     "output_type": "stream",
     "text": [
      "0.002088893978125414\n",
      "0.001609673499168793\n",
      "0.001609673499168793"
     ]
    },
    {
     "data": {
      "text/plain": [
       "3×3 Matrix{Float64}:\n",
       " 0.00208889  0.0015004   0.00245769\n",
       " 0.0015004   0.00160967  0.00225019\n",
       " 0.00245769  0.00225019  0.0269793"
      ]
     },
     "execution_count": 38,
     "metadata": {},
     "output_type": "execute_result"
    }
   ],
   "source": [
    "em_returns = vec(returndf[!, Symbol(\"Emerging Market Index\")])\n",
    "sp500_returns = vec(returndf[!, Symbol(\"S&P 500\")])\n",
    "bitcoin_returns = vec(returndf.Bitcoin)\n",
    "#Mean return vector\n",
    "mean_returns = [mean(em_returns),mean(sp500_returns),mean(bitcoin_returns)]\n",
    "display(mean_returns)\n",
    "#Cov Matrix    \n",
    "var_matrix = hcat(em_returns, sp500_returns, bitcoin_returns)\n",
    "\n",
    "print(string(var(em_returns)) * \"\\n\" * string(var(sp500_returns)) * \"\\n\" * string(var(sp500_returns)))\n",
    "cov_matrix = cov(var_matrix)\n"
   ]
  },
  {
   "cell_type": "code",
   "execution_count": 47,
   "id": "770eb90b-85be-44b7-b7b9-3870ceaffaa5",
   "metadata": {},
   "outputs": [
    {
     "name": "stdout",
     "output_type": "stream",
     "text": [
      "This is Ipopt version 3.14.14, running with linear solver MUMPS 5.6.2.\n",
      "\n",
      "Number of nonzeros in equality constraint Jacobian...:        0\n",
      "Number of nonzeros in inequality constraint Jacobian.:       12\n",
      "Number of nonzeros in Lagrangian Hessian.............:        6\n",
      "\n",
      "Total number of variables............................:        3\n",
      "                     variables with only lower bounds:        0\n",
      "                variables with lower and upper bounds:        0\n",
      "                     variables with only upper bounds:        0\n",
      "Total number of equality constraints.................:        0\n",
      "Total number of inequality constraints...............:        8\n",
      "        inequality constraints with only lower bounds:        4\n",
      "   inequality constraints with lower and upper bounds:        0\n",
      "        inequality constraints with only upper bounds:        4\n",
      "\n",
      "iter    objective    inf_pr   inf_du lg(mu)  ||d||  lg(rg) alpha_du alpha_pr  ls\n",
      "   0  0.0000000e+00 2.00e-02 4.82e-01  -1.0 0.00e+00    -  0.00e+00 0.00e+00   0\n",
      "   1  5.8286902e-06 1.88e-02 1.62e+00  -1.7 9.02e-02    -  8.17e-01 3.72e-01h  1\n",
      "   2  2.5091319e-03 0.00e+00 8.91e+00  -1.7 4.06e-01    -  3.08e-01 1.00e+00f  1\n",
      "   3  5.5907311e-03 0.00e+00 7.69e-01  -1.7 2.27e-01    -  7.88e-01 1.00e+00f  1\n",
      "   4  5.1985131e-03 0.00e+00 2.00e-07  -1.7 7.54e-02    -  1.00e+00 1.00e+00f  1\n",
      "   5  4.6152198e-03 0.00e+00 5.03e-02  -3.8 2.76e-02    -  9.54e-01 1.00e+00f  1\n",
      "   6  2.0634369e-03 0.00e+00 1.50e-09  -3.8 1.52e-01    -  1.00e+00 1.00e+00f  1\n",
      "   7  1.3191269e-03 0.00e+00 6.62e-03  -5.7 9.65e-02    -  7.78e-01 1.00e+00f  1\n",
      "   8  1.1522118e-03 0.00e+00 1.84e-11  -5.7 6.78e-02    -  1.00e+00 1.00e+00f  1\n",
      "   9  1.1359278e-03 0.00e+00 1.84e-11  -5.7 1.41e-02    -  1.00e+00 1.00e+00f  1\n",
      "iter    objective    inf_pr   inf_du lg(mu)  ||d||  lg(rg) alpha_du alpha_pr  ls\n",
      "  10  1.1322658e-03 0.00e+00 8.50e-07  -8.6 2.49e-03    -  9.96e-01 1.00e+00f  1\n",
      "  11  1.1322530e-03 0.00e+00 2.51e-14  -8.6 2.02e-05    -  1.00e+00 1.00e+00h  1\n",
      "\n",
      "Number of Iterations....: 11\n",
      "\n",
      "                                   (scaled)                 (unscaled)\n",
      "Objective...............:   1.1322529730415306e-03    1.1322529730415306e-03\n",
      "Dual infeasibility......:   2.5063284780912909e-14    2.5063284780912909e-14\n",
      "Constraint violation....:   0.0000000000000000e+00    0.0000000000000000e+00\n",
      "Variable bound violation:   0.0000000000000000e+00    0.0000000000000000e+00\n",
      "Complementarity.........:   2.5067700229798972e-09    2.5067700229798972e-09\n",
      "Overall NLP error.......:   2.5067700229798972e-09    2.5067700229798972e-09\n",
      "\n",
      "\n",
      "Number of objective function evaluations             = 12\n",
      "Number of objective gradient evaluations             = 12\n",
      "Number of equality constraint evaluations            = 0\n",
      "Number of inequality constraint evaluations          = 12\n",
      "Number of equality constraint Jacobian evaluations   = 0\n",
      "Number of inequality constraint Jacobian evaluations = 1\n",
      "Number of Lagrangian Hessian evaluations             = 1\n",
      "Total seconds in IPOPT                               = 0.008\n",
      "\n",
      "EXIT: Optimal Solution Found.\n"
     ]
    },
    {
     "data": {
      "text/plain": [
       "0.0011322529730415306"
      ]
     },
     "execution_count": 47,
     "metadata": {},
     "output_type": "execute_result"
    }
   ],
   "source": [
    "#function MeanVarianceOptProblemV1(em, sp500, btc, covariance)    \n",
    "using Ipopt\n",
    "#x = [1,1,1]\n",
    "#x\n",
    "model = Model(Ipopt.Optimizer)\n",
    "@variable(model, x[1:3])\n",
    "@objective(model, Min, transpose(x)*cov_matrix*x)\n",
    "@constraint(model, weightUL, x[1:3].<=1)\n",
    "@constraint(model, weightLL, x[1:3].>=0)\n",
    "@constraint(model, weightAdd, sum(x)<=1)\n",
    "@constraint(model, returnRequired, transpose(mean_returns)*x >= 0.02)\n",
    "\n",
    "#print(model)\n",
    "\n",
    "optimize!(model)\n",
    "\n",
    "#is_solved_and_feasible(model)\n",
    "#solution_summary(model)\n",
    "objective_value(model)"
   ]
  }
 ],
 "metadata": {
  "kernelspec": {
   "display_name": "Julia 1.10.2",
   "language": "julia",
   "name": "julia-1.10"
  },
  "language_info": {
   "file_extension": ".jl",
   "mimetype": "application/julia",
   "name": "julia",
   "version": "1.10.2"
  }
 },
 "nbformat": 4,
 "nbformat_minor": 5
}
