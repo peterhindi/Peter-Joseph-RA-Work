{
 "cells": [
  {
   "cell_type": "code",
   "execution_count": 3,
   "id": "c832c31a-6984-477b-ac45-d389b0e1ed0e",
   "metadata": {},
   "outputs": [],
   "source": [
    "#Import packages\n",
    "using JuMP, Pkg, CSV, DataFrames, Statistics, Plots, Ipopt"
   ]
  },
  {
   "cell_type": "code",
   "execution_count": null,
   "id": "0df8debe-9f49-4598-8e71-492d5dff4594",
   "metadata": {},
   "outputs": [],
   "source": []
  }
 ],
 "metadata": {
  "kernelspec": {
   "display_name": "Julia 1.10.4",
   "language": "julia",
   "name": "julia-1.10"
  },
  "language_info": {
   "file_extension": ".jl",
   "mimetype": "application/julia",
   "name": "julia",
   "version": "1.10.4"
  }
 },
 "nbformat": 4,
 "nbformat_minor": 5
}
